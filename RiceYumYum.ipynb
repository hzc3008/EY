{
 "cells": [
  {
   "cell_type": "raw",
   "metadata": {
    "tags": []
   },
   "source": [
    "## Terry Rice Yamyam\n"
   ]
  },
  {
   "cell_type": "code",
   "execution_count": 1,
   "metadata": {},
   "outputs": [],
   "source": [
    "# Supress Warnings \n",
    "import warnings\n",
    "warnings.filterwarnings('ignore')\n",
    "\n",
    "# Import common GIS tools\n",
    "import numpy as np\n",
    "import xarray as xr\n",
    "import matplotlib.pyplot as plt\n",
    "import rioxarray as rio\n",
    "import rasterio.features\n",
    "\n",
    "# Import Planetary Computer tools\n",
    "import stackstac\n",
    "import pystac_client\n",
    "import planetary_computer as pc\n",
    "import xrspatial.multispectral as ms\n",
    "import odc\n",
    "from odc.stac import stac_load\n",
    "import requests\n",
    "import rich.table\n",
    "from itertools import cycle\n",
    "from tqdm import tqdm\n",
    "tqdm.pandas()\n",
    "# Pass your API key here\n",
    "pc.settings.set_subscription_key('9407a5ebfcdf47809130408b746d7c73')\n",
    "from sklearn.ensemble import RandomForestClassifier\n",
    "from sklearn.metrics import accuracy_score, classification_report\n",
    "import numpy as np\n",
    "import pandas as pd"
   ]
  },
  {
   "cell_type": "code",
   "execution_count": 2,
   "metadata": {},
   "outputs": [],
   "source": [
    "crop_presence_data = pd.read_csv(\"Crop_Location_Data_20221201.csv\")"
   ]
  },
  {
   "cell_type": "code",
   "execution_count": 3,
   "metadata": {},
   "outputs": [],
   "source": [
    "# Define the pixel resolution for the final product\n",
    "# Define the scale according to our selected crs, so we will use degrees\n",
    "\n",
    "resolution = 10  # meters per pixel \n",
    "scale = resolution / 111320.0 # degrees per pixel for crs=4326 \n",
    "box_size_deg = 0.0004 # Surrounding box in degrees, yields approximately 5x5 pixel region\n",
    "allrvis = []"
   ]
  },
  {
   "cell_type": "code",
   "execution_count": 4,
   "metadata": {},
   "outputs": [
    {
     "name": "stderr",
     "output_type": "stream",
     "text": [
      "100%|██████████| 600/600 [1:39:03<00:00,  9.91s/it]\n"
     ]
    }
   ],
   "source": [
    "# Rice Crop Field in An Giang, Vietnam\n",
    "for coordinates in tqdm(crop_presence_data['Latitude and Longitude']):\n",
    "    lat_long = coordinates # Lat-Lon centroid location\n",
    "    \n",
    "    lat_long=lat_long.replace('(','').replace(')','').replace(' ','').split(',')\n",
    "    \n",
    "    min_lon = float(lat_long[1])-box_size_deg/2\n",
    "    min_lat = float(lat_long[0])-box_size_deg/2\n",
    "    max_lon = float(lat_long[1])+box_size_deg/2\n",
    "    max_lat = float(lat_long[0])+box_size_deg/2\n",
    "\n",
    "    bbox = (min_lon, min_lat, max_lon, max_lat)\n",
    "    time_of_interest = \"2021-12-01/2022-08-30\"\n",
    "    catalog = pystac_client.Client.open(\"https://planetarycomputer.microsoft.com/api/stac/v1\")\n",
    "    search = catalog.search(collections=[\"sentinel-1-rtc\"], bbox=bbox, datetime=time_of_interest)\n",
    "    items = list(search.get_all_items()) \n",
    "    data = stac_load(items,bands=[\"vv\", \"vh\"], patch_url=pc.sign, bbox=bbox, crs=\"EPSG:4326\", resolution=scale)\n",
    "    mean = data.mean(dim=['latitude','longitude']).compute()\n",
    "    dop = (mean.vv / (mean.vv + mean.vh))\n",
    "    m = 1 - dop\n",
    "    rvi = (np.sqrt(dop))*((4*mean.vh)/(mean.vv + mean.vh))\n",
    "    allrvis.append(rvi)"
   ]
  },
  {
   "cell_type": "code",
   "execution_count": 5,
   "metadata": {},
   "outputs": [],
   "source": [
    "# Convert the list of RVI data to a list of DataFrames\n",
    "rvi_dfs = [rvi.to_dataframe(name=\"RVI\").reset_index() for rvi in allrvis]\n",
    "\n",
    "# Concatenate the list of DataFrames\n",
    "rvi_df = pd.concat(rvi_dfs, axis=0, ignore_index=True)\n",
    "\n",
    "# Save the DataFrame to a CSV file\n",
    "rvi_df.to_csv(\"allrvis.csv\", index=False)"
   ]
  },
  {
   "cell_type": "code",
   "execution_count": 6,
   "metadata": {},
   "outputs": [],
   "source": [
    "# Create a new DataFrame with the filtered RVI list, the original coordinates, and the Class of Land column\n",
    "rvi_df = pd.DataFrame({\n",
    "    'Latitude and Longitude': crop_presence_data['Latitude and Longitude'], \n",
    "    'Class of Land': crop_presence_data['Class of Land'],\n",
    "    'RVI': allrvis\n",
    "})\n",
    "\n",
    "# Save the DataFrame to a CSV file\n",
    "rvi_df.to_csv(\"allrvis_with_coordinates_and_class.csv\", index=False)\n"
   ]
  },
  {
   "cell_type": "code",
   "execution_count": 7,
   "metadata": {},
   "outputs": [],
   "source": [
    "def extract_features(rvi_df):\n",
    "    return {\n",
    "        'mean_rvi': rvi_df.mean(),\n",
    "        'min_rvi': rvi_df.min(),\n",
    "        'max_rvi': rvi_df.max(),\n",
    "        'std_rvi': rvi_df.std()\n",
    "    }\n",
    "\n",
    "# Apply the feature extraction function to the RVI_Time_Series column\n",
    "features = rvi_df['RVI'].apply(extract_features)\n",
    "\n",
    "# Convert the extracted features to a DataFrame\n",
    "features_df = pd.DataFrame(list(features))"
   ]
  },
  {
   "cell_type": "code",
   "execution_count": 34,
   "metadata": {},
   "outputs": [],
   "source": [
    "# Calculate the mean of the data across the sample region\n",
    "final_df = pd.concat([rvi_df, features_df], axis=1)"
   ]
  },
  {
   "cell_type": "code",
   "execution_count": 62,
   "metadata": {},
   "outputs": [],
   "source": [
    "# Calculate RVI\n",
    "from sklearn.model_selection import train_test_split\n",
    "\n",
    "# Define input features (X) and target variable (y)\n",
    "X = final_df[['min_rvi', 'max_rvi', 'std_rvi']] #'mean_rvi', \n",
    "y = final_df['Class of Land']\n",
    "\n",
    "# Split the dataset into training (80%) and testing (20%) sets\n",
    "X_train, X_test, y_train, y_test = train_test_split(X, y, test_size=0.50, random_state=42)"
   ]
  },
  {
   "cell_type": "code",
   "execution_count": 63,
   "metadata": {},
   "outputs": [
    {
     "name": "stdout",
     "output_type": "stream",
     "text": [
      "Accuracy: 0.9666666666666667\n",
      "              precision    recall  f1-score   support\n",
      "\n",
      "    Non Rice       0.97      0.96      0.97       144\n",
      "        Rice       0.96      0.97      0.97       156\n",
      "\n",
      "    accuracy                           0.97       300\n",
      "   macro avg       0.97      0.97      0.97       300\n",
      "weighted avg       0.97      0.97      0.97       300\n",
      "\n"
     ]
    }
   ],
   "source": [
    "\n",
    "\n",
    "# Create a RandomForest classifier and fit it to the training data\n",
    "clf = RandomForestClassifier(random_state=42)\n",
    "clf.fit(X_train, y_train)\n",
    "\n",
    "# Make predictions on the test set\n",
    "y_pred = clf.predict(X_test)\n",
    "\n",
    "# Evaluate the model's performance\n",
    "accuracy = accuracy_score(y_test, y_pred)\n",
    "print(\"Accuracy:\", accuracy)\n",
    "print(classification_report(y_test, y_pred))"
   ]
  },
  {
   "cell_type": "code",
   "execution_count": 64,
   "metadata": {},
   "outputs": [
    {
     "name": "stdout",
     "output_type": "stream",
     "text": [
      "Accuracy: 0.9833333333333333\n",
      "              precision    recall  f1-score   support\n",
      "\n",
      "    Non Rice       0.99      0.98      0.98       300\n",
      "        Rice       0.98      0.99      0.98       300\n",
      "\n",
      "    accuracy                           0.98       600\n",
      "   macro avg       0.98      0.98      0.98       600\n",
      "weighted avg       0.98      0.98      0.98       600\n",
      "\n"
     ]
    }
   ],
   "source": [
    "y_pred = clf.predict(final_df[[ 'min_rvi', 'max_rvi', 'std_rvi']]) #'mean_rvi',\n",
    "\n",
    "accuracy = accuracy_score(final_df['Class of Land'], y_pred)\n",
    "print(\"Accuracy:\", accuracy)\n",
    "print(classification_report(final_df['Class of Land'], y_pred))\n",
    "\n",
    "final_df['Predicted Class'] = y_pred"
   ]
  },
  {
   "cell_type": "code",
   "execution_count": 38,
   "metadata": {},
   "outputs": [],
   "source": [
    "final_df.to_csv(\"finalpredict.csv\", index=False)"
   ]
  },
  {
   "cell_type": "code",
   "execution_count": null,
   "metadata": {},
   "outputs": [],
   "source": []
  },
  {
   "cell_type": "code",
   "execution_count": 39,
   "metadata": {},
   "outputs": [],
   "source": [
    "crop_presence_data = pd.read_csv(\"challenge_1_submission_template.csv\")"
   ]
  },
  {
   "cell_type": "code",
   "execution_count": 40,
   "metadata": {},
   "outputs": [
    {
     "name": "stderr",
     "output_type": "stream",
     "text": [
      "100%|██████████| 250/250 [41:39<00:00, 10.00s/it]\n"
     ]
    }
   ],
   "source": [
    "# Rice Crop Field in An Giang, Vietnam\n",
    "allrvischallenge = []\n",
    "for coordinates in tqdm(crop_presence_data['id']):\n",
    "    lat_long = coordinates # Lat-Lon centroid location\n",
    "    \n",
    "    lat_long=lat_long.replace('(','').replace(')','').replace(' ','').split(',')\n",
    "    \n",
    "    min_lon = float(lat_long[1])-box_size_deg/2\n",
    "    min_lat = float(lat_long[0])-box_size_deg/2\n",
    "    max_lon = float(lat_long[1])+box_size_deg/2\n",
    "    max_lat = float(lat_long[0])+box_size_deg/2\n",
    "\n",
    "    bbox = (min_lon, min_lat, max_lon, max_lat)\n",
    "    time_of_interest = \"2021-12-01/2022-08-30\"\n",
    "    catalog = pystac_client.Client.open(\"https://planetarycomputer.microsoft.com/api/stac/v1\")\n",
    "    search = catalog.search(collections=[\"sentinel-1-rtc\"], bbox=bbox, datetime=time_of_interest)\n",
    "    items = list(search.get_all_items()) \n",
    "    data = stac_load(items,bands=[\"vv\", \"vh\"], patch_url=pc.sign, bbox=bbox, crs=\"EPSG:4326\", resolution=scale)\n",
    "    mean = data.mean(dim=['latitude','longitude']).compute()\n",
    "    dop = (mean.vv / (mean.vv + mean.vh))\n",
    "    m = 1 - dop\n",
    "    rvi = (np.sqrt(dop))*((4*mean.vh)/(mean.vv + mean.vh))\n",
    "    allrvischallenge.append(rvi)"
   ]
  },
  {
   "cell_type": "code",
   "execution_count": 41,
   "metadata": {},
   "outputs": [],
   "source": [
    "# Convert the list of RVI data to a list of DataFrames\n",
    "rvi_dfschallenge = [rvi.to_dataframe(name=\"RVI\").reset_index() for rvi in allrvischallenge]\n",
    "\n",
    "# Concatenate the list of DataFrames\n",
    "rvi_dfchallenge = pd.concat(rvi_dfschallenge, axis=0, ignore_index=True)\n",
    "\n",
    "# Save the DataFrame to a CSV file\n",
    "rvi_dfchallenge.to_csv(\"allrvischallenge.csv\", index=False)"
   ]
  },
  {
   "cell_type": "code",
   "execution_count": 42,
   "metadata": {},
   "outputs": [],
   "source": [
    "# Create a new DataFrame with the filtered RVI list, the original coordinates, and the Class of Land column\n",
    "rvi_dfchallenge = pd.DataFrame({\n",
    "    'Latitude and Longitude': crop_presence_data['id'],\n",
    "    'RVI': allrvischallenge\n",
    "})\n",
    "\n",
    "# Save the DataFrame to a CSV file\n",
    "rvi_dfchallenge.to_csv(\"allrvis_with_coordinates_and_class.csv\", index=False)"
   ]
  },
  {
   "cell_type": "code",
   "execution_count": 43,
   "metadata": {},
   "outputs": [],
   "source": [
    "def extract_features(rvi_df):\n",
    "    return {\n",
    "        'mean_rvi': rvi_df.mean(),\n",
    "        'min_rvi': rvi_df.min(),\n",
    "        'max_rvi': rvi_df.max(),\n",
    "        'std_rvi': rvi_df.std()\n",
    "    }\n",
    "\n",
    "# Apply the feature extraction function to the RVI_Time_Series column\n",
    "featureschallenge = rvi_dfchallenge['RVI'].apply(extract_features)\n",
    "\n",
    "# Convert the extracted features to a DataFrame\n",
    "features_dfchallenge = pd.DataFrame(list(featureschallenge))"
   ]
  },
  {
   "cell_type": "code",
   "execution_count": 44,
   "metadata": {},
   "outputs": [],
   "source": [
    "# Calculate the mean of the data across the sample region\n",
    "final_dfchallenge = pd.concat([rvi_dfchallenge, features_dfchallenge], axis=1)"
   ]
  },
  {
   "cell_type": "code",
   "execution_count": 45,
   "metadata": {},
   "outputs": [],
   "source": [
    "y_predchallenge = clf.predict(final_dfchallenge[['min_rvi', 'max_rvi', 'std_rvi']])#'mean_rvi', \n",
    "\n",
    "\n",
    "\n",
    "crop_presence_data['target'] = y_predchallenge\n",
    "\n",
    "crop_presence_data.to_csv(\"challenge1.csv\", index=False)"
   ]
  },
  {
   "cell_type": "code",
   "execution_count": null,
   "metadata": {},
   "outputs": [],
   "source": []
  }
 ],
 "metadata": {
  "kernelspec": {
   "display_name": "Python 3 (ipykernel)",
   "language": "python",
   "name": "python3"
  },
  "language_info": {
   "codemirror_mode": {
    "name": "ipython",
    "version": 3
   },
   "file_extension": ".py",
   "mimetype": "text/x-python",
   "name": "python",
   "nbconvert_exporter": "python",
   "pygments_lexer": "ipython3",
   "version": "3.10.6"
  },
  "widgets": {
   "application/vnd.jupyter.widget-state+json": {
    "state": {
     "2ca0804b9f904dab815db80637a4f2d9": {
      "model_module": "@jupyter-widgets/base",
      "model_module_version": "1.2.0",
      "model_name": "LayoutModel",
      "state": {}
     },
     "e2f3ac516e3b4cf3a1ba1fc6aa0897ad": {
      "model_module": "@jupyter-widgets/controls",
      "model_module_version": "1.5.0",
      "model_name": "VBoxModel",
      "state": {
       "layout": "IPY_MODEL_2ca0804b9f904dab815db80637a4f2d9"
      }
     }
    },
    "version_major": 2,
    "version_minor": 0
   }
  }
 },
 "nbformat": 4,
 "nbformat_minor": 4
}
